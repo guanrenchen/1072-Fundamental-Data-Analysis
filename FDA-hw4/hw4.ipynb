{
 "cells": [
  {
   "cell_type": "markdown",
   "metadata": {
    "colab_type": "text",
    "id": "cI8XDnmS21bR"
   },
   "source": [
    "# Dataset (Dota2)\n",
    "\n",
    "## Source\n",
    "Dua, D. and Graff, C. (2019). UCI Machine Learning Repository [http://archive.ics.uci.edu/ml](http://archive.ics.uci.edu/ml). Irvine, CA: University of California, School of Information and Computer Science.\n",
    "\n",
    "Dataset Full Name : Dota2 Games Results Data Set \n",
    "\n",
    "## Description\n",
    "Each row of the dataset is a single game with the following features (in the order in the vector):\n",
    "0. Team won the game (1 or -1)\n",
    "1. Cluster ID (related to location)\n",
    "2. Game mode (eg All Pick)\n",
    "3. Game type (eg. Ranked)\n",
    "4. ~end: Each element is an indicator for a hero. Value of 1 indicates that a player from team '1' played as that hero and '-1' for the other team. Hero can be selected by only one player each game. This means that each row has five '1' and five '-1' values."
   ]
  },
  {
   "cell_type": "markdown",
   "metadata": {},
   "source": [
    "---\n",
    "# Goal : Predict win or lose (Classification)"
   ]
  },
  {
   "cell_type": "markdown",
   "metadata": {
    "colab_type": "text",
    "id": "hjpjKlh821bX"
   },
   "source": [
    "---\n",
    "# Init"
   ]
  },
  {
   "cell_type": "code",
   "execution_count": 1,
   "metadata": {
    "colab": {},
    "colab_type": "code",
    "id": "oR6Vd3Tj21bc"
   },
   "outputs": [],
   "source": [
    "import pandas as pd\n",
    "import seaborn as sns\n",
    "from matplotlib import pyplot as plt"
   ]
  },
  {
   "cell_type": "code",
   "execution_count": 2,
   "metadata": {
    "colab": {},
    "colab_type": "code",
    "id": "F2QSAiRX21cB"
   },
   "outputs": [],
   "source": [
    "import tensorflow as tf\n",
    "from tensorflow.keras import models, layers, optimizers, regularizers"
   ]
  },
  {
   "cell_type": "markdown",
   "metadata": {
    "colab_type": "text",
    "id": "vrlZ2aPZ21cO"
   },
   "source": [
    "---\n",
    "# Data"
   ]
  },
  {
   "cell_type": "code",
   "execution_count": 3,
   "metadata": {
    "colab": {
     "base_uri": "https://localhost:8080/",
     "height": 139
    },
    "colab_type": "code",
    "executionInfo": {
     "elapsed": 1974,
     "status": "ok",
     "timestamp": 1557931070976,
     "user": {
      "displayName": "陳冠仁",
      "photoUrl": "https://lh5.googleusercontent.com/-pKJCH2mYfz4/AAAAAAAAAAI/AAAAAAAAD4M/R86pZwNc97w/s64/photo.jpg",
      "userId": "08094711821077525171"
     },
     "user_tz": -480
    },
    "id": "P8DCCaRE21cU",
    "outputId": "e10100b3-bd99-4772-bec3-e1d2a694f2c9"
   },
   "outputs": [
    {
     "name": "stdout",
     "output_type": "stream",
     "text": [
      "<class 'pandas.core.frame.DataFrame'>\n",
      "RangeIndex: 92650 entries, 0 to 92649\n",
      "Columns: 117 entries, 0 to 116\n",
      "dtypes: int64(117)\n",
      "memory usage: 82.7 MB\n",
      "\n",
      "Total NA count: 0\n"
     ]
    },
    {
     "data": {
      "text/html": [
       "<div>\n",
       "<style scoped>\n",
       "    .dataframe tbody tr th:only-of-type {\n",
       "        vertical-align: middle;\n",
       "    }\n",
       "\n",
       "    .dataframe tbody tr th {\n",
       "        vertical-align: top;\n",
       "    }\n",
       "\n",
       "    .dataframe thead th {\n",
       "        text-align: right;\n",
       "    }\n",
       "</style>\n",
       "<table border=\"1\" class=\"dataframe\">\n",
       "  <thead>\n",
       "    <tr style=\"text-align: right;\">\n",
       "      <th></th>\n",
       "      <th>0</th>\n",
       "      <th>1</th>\n",
       "      <th>2</th>\n",
       "      <th>3</th>\n",
       "      <th>4</th>\n",
       "      <th>5</th>\n",
       "      <th>6</th>\n",
       "      <th>7</th>\n",
       "      <th>8</th>\n",
       "      <th>9</th>\n",
       "      <th>...</th>\n",
       "      <th>107</th>\n",
       "      <th>108</th>\n",
       "      <th>109</th>\n",
       "      <th>110</th>\n",
       "      <th>111</th>\n",
       "      <th>112</th>\n",
       "      <th>113</th>\n",
       "      <th>114</th>\n",
       "      <th>115</th>\n",
       "      <th>116</th>\n",
       "    </tr>\n",
       "  </thead>\n",
       "  <tbody>\n",
       "    <tr>\n",
       "      <th>0</th>\n",
       "      <td>-1</td>\n",
       "      <td>223</td>\n",
       "      <td>2</td>\n",
       "      <td>2</td>\n",
       "      <td>0</td>\n",
       "      <td>0</td>\n",
       "      <td>0</td>\n",
       "      <td>0</td>\n",
       "      <td>0</td>\n",
       "      <td>0</td>\n",
       "      <td>...</td>\n",
       "      <td>0</td>\n",
       "      <td>0</td>\n",
       "      <td>0</td>\n",
       "      <td>0</td>\n",
       "      <td>0</td>\n",
       "      <td>0</td>\n",
       "      <td>0</td>\n",
       "      <td>0</td>\n",
       "      <td>0</td>\n",
       "      <td>0</td>\n",
       "    </tr>\n",
       "    <tr>\n",
       "      <th>1</th>\n",
       "      <td>1</td>\n",
       "      <td>152</td>\n",
       "      <td>2</td>\n",
       "      <td>2</td>\n",
       "      <td>0</td>\n",
       "      <td>0</td>\n",
       "      <td>0</td>\n",
       "      <td>1</td>\n",
       "      <td>0</td>\n",
       "      <td>-1</td>\n",
       "      <td>...</td>\n",
       "      <td>0</td>\n",
       "      <td>0</td>\n",
       "      <td>0</td>\n",
       "      <td>0</td>\n",
       "      <td>0</td>\n",
       "      <td>0</td>\n",
       "      <td>0</td>\n",
       "      <td>0</td>\n",
       "      <td>0</td>\n",
       "      <td>0</td>\n",
       "    </tr>\n",
       "    <tr>\n",
       "      <th>2</th>\n",
       "      <td>1</td>\n",
       "      <td>131</td>\n",
       "      <td>2</td>\n",
       "      <td>2</td>\n",
       "      <td>0</td>\n",
       "      <td>0</td>\n",
       "      <td>0</td>\n",
       "      <td>1</td>\n",
       "      <td>0</td>\n",
       "      <td>-1</td>\n",
       "      <td>...</td>\n",
       "      <td>0</td>\n",
       "      <td>0</td>\n",
       "      <td>0</td>\n",
       "      <td>0</td>\n",
       "      <td>0</td>\n",
       "      <td>0</td>\n",
       "      <td>0</td>\n",
       "      <td>0</td>\n",
       "      <td>0</td>\n",
       "      <td>0</td>\n",
       "    </tr>\n",
       "    <tr>\n",
       "      <th>3</th>\n",
       "      <td>1</td>\n",
       "      <td>154</td>\n",
       "      <td>2</td>\n",
       "      <td>2</td>\n",
       "      <td>0</td>\n",
       "      <td>0</td>\n",
       "      <td>0</td>\n",
       "      <td>0</td>\n",
       "      <td>0</td>\n",
       "      <td>0</td>\n",
       "      <td>...</td>\n",
       "      <td>-1</td>\n",
       "      <td>0</td>\n",
       "      <td>0</td>\n",
       "      <td>0</td>\n",
       "      <td>0</td>\n",
       "      <td>0</td>\n",
       "      <td>0</td>\n",
       "      <td>0</td>\n",
       "      <td>0</td>\n",
       "      <td>0</td>\n",
       "    </tr>\n",
       "    <tr>\n",
       "      <th>4</th>\n",
       "      <td>-1</td>\n",
       "      <td>171</td>\n",
       "      <td>2</td>\n",
       "      <td>3</td>\n",
       "      <td>0</td>\n",
       "      <td>0</td>\n",
       "      <td>0</td>\n",
       "      <td>0</td>\n",
       "      <td>0</td>\n",
       "      <td>-1</td>\n",
       "      <td>...</td>\n",
       "      <td>0</td>\n",
       "      <td>0</td>\n",
       "      <td>0</td>\n",
       "      <td>0</td>\n",
       "      <td>0</td>\n",
       "      <td>0</td>\n",
       "      <td>0</td>\n",
       "      <td>0</td>\n",
       "      <td>0</td>\n",
       "      <td>0</td>\n",
       "    </tr>\n",
       "  </tbody>\n",
       "</table>\n",
       "<p>5 rows × 117 columns</p>\n",
       "</div>"
      ],
      "text/plain": [
       "   0    1    2    3    4    5    6    7    8    9    ...  107  108  109  110  \\\n",
       "0   -1  223    2    2    0    0    0    0    0    0  ...    0    0    0    0   \n",
       "1    1  152    2    2    0    0    0    1    0   -1  ...    0    0    0    0   \n",
       "2    1  131    2    2    0    0    0    1    0   -1  ...    0    0    0    0   \n",
       "3    1  154    2    2    0    0    0    0    0    0  ...   -1    0    0    0   \n",
       "4   -1  171    2    3    0    0    0    0    0   -1  ...    0    0    0    0   \n",
       "\n",
       "   111  112  113  114  115  116  \n",
       "0    0    0    0    0    0    0  \n",
       "1    0    0    0    0    0    0  \n",
       "2    0    0    0    0    0    0  \n",
       "3    0    0    0    0    0    0  \n",
       "4    0    0    0    0    0    0  \n",
       "\n",
       "[5 rows x 117 columns]"
      ]
     },
     "execution_count": 3,
     "metadata": {},
     "output_type": "execute_result"
    }
   ],
   "source": [
    "train = pd.read_csv('data/dota2Train.csv', header=None)\n",
    "train.info()\n",
    "print(f'\\nTotal NA count: {train.isna().sum().sum()}')\n",
    "train.head(5)"
   ]
  },
  {
   "cell_type": "code",
   "execution_count": 4,
   "metadata": {
    "colab": {
     "base_uri": "https://localhost:8080/",
     "height": 139
    },
    "colab_type": "code",
    "executionInfo": {
     "elapsed": 1294,
     "status": "ok",
     "timestamp": 1557931087283,
     "user": {
      "displayName": "陳冠仁",
      "photoUrl": "https://lh5.googleusercontent.com/-pKJCH2mYfz4/AAAAAAAAAAI/AAAAAAAAD4M/R86pZwNc97w/s64/photo.jpg",
      "userId": "08094711821077525171"
     },
     "user_tz": -480
    },
    "id": "W_XsuO9C21cp",
    "outputId": "92b062f0-e2f7-4636-d0fd-dc7d66654a12"
   },
   "outputs": [
    {
     "name": "stdout",
     "output_type": "stream",
     "text": [
      "<class 'pandas.core.frame.DataFrame'>\n",
      "RangeIndex: 10294 entries, 0 to 10293\n",
      "Columns: 117 entries, 0 to 116\n",
      "dtypes: int64(117)\n",
      "memory usage: 9.2 MB\n",
      "\n",
      "Total NA count: 0\n"
     ]
    },
    {
     "data": {
      "text/html": [
       "<div>\n",
       "<style scoped>\n",
       "    .dataframe tbody tr th:only-of-type {\n",
       "        vertical-align: middle;\n",
       "    }\n",
       "\n",
       "    .dataframe tbody tr th {\n",
       "        vertical-align: top;\n",
       "    }\n",
       "\n",
       "    .dataframe thead th {\n",
       "        text-align: right;\n",
       "    }\n",
       "</style>\n",
       "<table border=\"1\" class=\"dataframe\">\n",
       "  <thead>\n",
       "    <tr style=\"text-align: right;\">\n",
       "      <th></th>\n",
       "      <th>0</th>\n",
       "      <th>1</th>\n",
       "      <th>2</th>\n",
       "      <th>3</th>\n",
       "      <th>4</th>\n",
       "      <th>5</th>\n",
       "      <th>6</th>\n",
       "      <th>7</th>\n",
       "      <th>8</th>\n",
       "      <th>9</th>\n",
       "      <th>...</th>\n",
       "      <th>107</th>\n",
       "      <th>108</th>\n",
       "      <th>109</th>\n",
       "      <th>110</th>\n",
       "      <th>111</th>\n",
       "      <th>112</th>\n",
       "      <th>113</th>\n",
       "      <th>114</th>\n",
       "      <th>115</th>\n",
       "      <th>116</th>\n",
       "    </tr>\n",
       "  </thead>\n",
       "  <tbody>\n",
       "    <tr>\n",
       "      <th>0</th>\n",
       "      <td>-1</td>\n",
       "      <td>223</td>\n",
       "      <td>8</td>\n",
       "      <td>2</td>\n",
       "      <td>0</td>\n",
       "      <td>-1</td>\n",
       "      <td>0</td>\n",
       "      <td>0</td>\n",
       "      <td>0</td>\n",
       "      <td>0</td>\n",
       "      <td>...</td>\n",
       "      <td>-1</td>\n",
       "      <td>0</td>\n",
       "      <td>0</td>\n",
       "      <td>0</td>\n",
       "      <td>0</td>\n",
       "      <td>0</td>\n",
       "      <td>0</td>\n",
       "      <td>0</td>\n",
       "      <td>0</td>\n",
       "      <td>0</td>\n",
       "    </tr>\n",
       "    <tr>\n",
       "      <th>1</th>\n",
       "      <td>1</td>\n",
       "      <td>227</td>\n",
       "      <td>8</td>\n",
       "      <td>2</td>\n",
       "      <td>0</td>\n",
       "      <td>0</td>\n",
       "      <td>0</td>\n",
       "      <td>0</td>\n",
       "      <td>0</td>\n",
       "      <td>0</td>\n",
       "      <td>...</td>\n",
       "      <td>-1</td>\n",
       "      <td>0</td>\n",
       "      <td>0</td>\n",
       "      <td>0</td>\n",
       "      <td>0</td>\n",
       "      <td>0</td>\n",
       "      <td>0</td>\n",
       "      <td>0</td>\n",
       "      <td>0</td>\n",
       "      <td>0</td>\n",
       "    </tr>\n",
       "    <tr>\n",
       "      <th>2</th>\n",
       "      <td>-1</td>\n",
       "      <td>136</td>\n",
       "      <td>2</td>\n",
       "      <td>2</td>\n",
       "      <td>1</td>\n",
       "      <td>0</td>\n",
       "      <td>0</td>\n",
       "      <td>0</td>\n",
       "      <td>-1</td>\n",
       "      <td>0</td>\n",
       "      <td>...</td>\n",
       "      <td>0</td>\n",
       "      <td>0</td>\n",
       "      <td>0</td>\n",
       "      <td>0</td>\n",
       "      <td>0</td>\n",
       "      <td>0</td>\n",
       "      <td>0</td>\n",
       "      <td>0</td>\n",
       "      <td>0</td>\n",
       "      <td>0</td>\n",
       "    </tr>\n",
       "    <tr>\n",
       "      <th>3</th>\n",
       "      <td>1</td>\n",
       "      <td>227</td>\n",
       "      <td>2</td>\n",
       "      <td>2</td>\n",
       "      <td>-1</td>\n",
       "      <td>0</td>\n",
       "      <td>0</td>\n",
       "      <td>0</td>\n",
       "      <td>0</td>\n",
       "      <td>0</td>\n",
       "      <td>...</td>\n",
       "      <td>0</td>\n",
       "      <td>0</td>\n",
       "      <td>0</td>\n",
       "      <td>0</td>\n",
       "      <td>0</td>\n",
       "      <td>0</td>\n",
       "      <td>0</td>\n",
       "      <td>0</td>\n",
       "      <td>0</td>\n",
       "      <td>0</td>\n",
       "    </tr>\n",
       "    <tr>\n",
       "      <th>4</th>\n",
       "      <td>1</td>\n",
       "      <td>184</td>\n",
       "      <td>2</td>\n",
       "      <td>3</td>\n",
       "      <td>0</td>\n",
       "      <td>0</td>\n",
       "      <td>0</td>\n",
       "      <td>-1</td>\n",
       "      <td>0</td>\n",
       "      <td>0</td>\n",
       "      <td>...</td>\n",
       "      <td>0</td>\n",
       "      <td>0</td>\n",
       "      <td>0</td>\n",
       "      <td>0</td>\n",
       "      <td>0</td>\n",
       "      <td>0</td>\n",
       "      <td>0</td>\n",
       "      <td>0</td>\n",
       "      <td>0</td>\n",
       "      <td>0</td>\n",
       "    </tr>\n",
       "  </tbody>\n",
       "</table>\n",
       "<p>5 rows × 117 columns</p>\n",
       "</div>"
      ],
      "text/plain": [
       "   0    1    2    3    4    5    6    7    8    9    ...  107  108  109  110  \\\n",
       "0   -1  223    8    2    0   -1    0    0    0    0  ...   -1    0    0    0   \n",
       "1    1  227    8    2    0    0    0    0    0    0  ...   -1    0    0    0   \n",
       "2   -1  136    2    2    1    0    0    0   -1    0  ...    0    0    0    0   \n",
       "3    1  227    2    2   -1    0    0    0    0    0  ...    0    0    0    0   \n",
       "4    1  184    2    3    0    0    0   -1    0    0  ...    0    0    0    0   \n",
       "\n",
       "   111  112  113  114  115  116  \n",
       "0    0    0    0    0    0    0  \n",
       "1    0    0    0    0    0    0  \n",
       "2    0    0    0    0    0    0  \n",
       "3    0    0    0    0    0    0  \n",
       "4    0    0    0    0    0    0  \n",
       "\n",
       "[5 rows x 117 columns]"
      ]
     },
     "execution_count": 4,
     "metadata": {},
     "output_type": "execute_result"
    }
   ],
   "source": [
    "test = pd.read_csv('data/dota2Test.csv', header=None)\n",
    "test.info()\n",
    "print(f'\\nTotal NA count: {train.isna().sum().sum()}')\n",
    "test.head(5)"
   ]
  },
  {
   "cell_type": "markdown",
   "metadata": {
    "colab_type": "text",
    "id": "3GYXa6vp7m18"
   },
   "source": [
    "---\n",
    "# Analysis"
   ]
  },
  {
   "cell_type": "code",
   "execution_count": 5,
   "metadata": {},
   "outputs": [
    {
     "data": {
      "image/png": "[encoded data removed]",
      "text/plain": [
       "<Figure size 432x288 with 1 Axes>"
      ]
     },
     "metadata": {
      "needs_background": "light"
     },
     "output_type": "display_data"
    }
   ],
   "source": [
    "ax = sns.countplot(train[0]);\n",
    "ax.set_title('Win vs Lose');"
   ]
  },
  {
   "cell_type": "markdown",
   "metadata": {},
   "source": [
    "## Note\n",
    "***Positive part in the graphs below represents win count, Negative part represents lose count***"
   ]
  },
  {
   "cell_type": "code",
   "execution_count": 6,
   "metadata": {},
   "outputs": [],
   "source": [
    "win_group = train[train[0]>0]\n",
    "lose_group = train[train[0]<0]"
   ]
  },
  {
   "cell_type": "code",
   "execution_count": 7,
   "metadata": {
    "colab": {
     "base_uri": "https://localhost:8080/",
     "height": 87
    },
    "colab_type": "code",
    "executionInfo": {
     "elapsed": 632,
     "status": "ok",
     "timestamp": 1557931156117,
     "user": {
      "displayName": "陳冠仁",
      "photoUrl": "https://lh5.googleusercontent.com/-pKJCH2mYfz4/AAAAAAAAAAI/AAAAAAAAD4M/R86pZwNc97w/s64/photo.jpg",
      "userId": "08094711821077525171"
     },
     "user_tz": -480
    },
    "id": "4koIgqfd7rtU",
    "outputId": "f67e56fc-1b2d-485e-c4f5-dd4562d663fb"
   },
   "outputs": [
    {
     "data": {
      "image/png": "[encoded data removed]",
      "text/plain": [
       "<Figure size 1080x360 with 1 Axes>"
      ]
     },
     "metadata": {
      "needs_background": "light"
     },
     "output_type": "display_data"
    }
   ],
   "source": [
    "plt.figure(figsize=(15,5))\n",
    "\n",
    "ax = sns.countplot(train[1])\n",
    "ax.set_title('Cluster')\n",
    "ax.set_xlabel('ID')\n",
    "plt.xticks(rotation=90);"
   ]
  },
  {
   "cell_type": "code",
   "execution_count": 8,
   "metadata": {
    "colab": {
     "base_uri": "https://localhost:8080/",
     "height": 87
    },
    "colab_type": "code",
    "executionInfo": {
     "elapsed": 632,
     "status": "ok",
     "timestamp": 1557931156117,
     "user": {
      "displayName": "陳冠仁",
      "photoUrl": "https://lh5.googleusercontent.com/-pKJCH2mYfz4/AAAAAAAAAAI/AAAAAAAAD4M/R86pZwNc97w/s64/photo.jpg",
      "userId": "08094711821077525171"
     },
     "user_tz": -480
    },
    "id": "4koIgqfd7rtU",
    "outputId": "f67e56fc-1b2d-485e-c4f5-dd4562d663fb"
   },
   "outputs": [
    {
     "data": {
      "image/png": "[encoded data removed]",
      "text/plain": [
       "<Figure size 432x288 with 1 Axes>"
      ]
     },
     "metadata": {
      "needs_background": "light"
     },
     "output_type": "display_data"
    }
   ],
   "source": [
    "ax = sns.countplot(train[2])\n",
    "ax.set_title('Game Mode')\n",
    "ax.set_xlabel('Mode')\n",
    "plt.xticks(rotation=90);"
   ]
  },
  {
   "cell_type": "code",
   "execution_count": 9,
   "metadata": {
    "colab": {
     "base_uri": "https://localhost:8080/",
     "height": 87
    },
    "colab_type": "code",
    "executionInfo": {
     "elapsed": 632,
     "status": "ok",
     "timestamp": 1557931156117,
     "user": {
      "displayName": "陳冠仁",
      "photoUrl": "https://lh5.googleusercontent.com/-pKJCH2mYfz4/AAAAAAAAAAI/AAAAAAAAD4M/R86pZwNc97w/s64/photo.jpg",
      "userId": "08094711821077525171"
     },
     "user_tz": -480
    },
    "id": "4koIgqfd7rtU",
    "outputId": "f67e56fc-1b2d-485e-c4f5-dd4562d663fb"
   },
   "outputs": [
    {
     "data": {
      "image/png": "[encoded data removed]",
      "text/plain": [
       "<Figure size 432x288 with 1 Axes>"
      ]
     },
     "metadata": {
      "needs_background": "light"
     },
     "output_type": "display_data"
    }
   ],
   "source": [
    "ax = sns.countplot(train[3])\n",
    "ax.set_title('Game Type')\n",
    "ax.set_xlabel('Type')\n",
    "plt.xticks(rotation=90);"
   ]
  },
  {
   "cell_type": "code",
   "execution_count": 10,
   "metadata": {},
   "outputs": [
    {
     "data": {
      "image/png": "[encoded data removed]",
      "text/plain": [
       "<Figure size 1440x360 with 1 Axes>"
      ]
     },
     "metadata": {
      "needs_background": "light"
     },
     "output_type": "display_data"
    }
   ],
   "source": [
    "plt.figure(figsize=(20,5))\n",
    "heroes = train.loc[:,4:]\n",
    "\n",
    "w = train[train[0]>0].loc[:,4:]\n",
    "l = train[train[0]<0].loc[:,4:]\n",
    "\n",
    "ax = sns.barplot(x=heroes.columns, y=w[w>0].sum()+l[l<0].sum()*-1)\n",
    "ax = sns.barplot(x=heroes.columns, y=w[w<0].sum()+l[l>0].sum()*-1)\n",
    "ax.set_title('Hero Win/Lose Rate')\n",
    "ax.set_xlabel('ID')\n",
    "ax.set_ylabel('lose | win ')\n",
    "plt.xticks(rotation=90)\n",
    "plt.axhline(0, color='black');"
   ]
  },
  {
   "cell_type": "markdown",
   "metadata": {},
   "source": [
    "## Observation/Inference\n",
    "- Some features are unbalanced.\n",
    "- To predict game result, features that are the same for both sides should not be used.\n",
    "- Using the field of heroes to predict game result seems most viable."
   ]
  },
  {
   "cell_type": "markdown",
   "metadata": {
    "colab_type": "text",
    "id": "H4QEZ-dD21c2"
   },
   "source": [
    "---\n",
    "# Direct Approach (original data)\n",
    "## Preprocessing"
   ]
  },
  {
   "cell_type": "code",
   "execution_count": 11,
   "metadata": {
    "colab": {},
    "colab_type": "code",
    "id": "Jrd7lNKq21c6"
   },
   "outputs": [],
   "source": [
    "def preprocess_data_original(data):\n",
    "    df = data.copy(deep=True)\n",
    "    # Rename columns\n",
    "    mapper = {\n",
    "        0: 'Win',\n",
    "        1: 'Location',\n",
    "        2: 'Mode',\n",
    "        3: 'Type'\n",
    "    }\n",
    "    n = len(mapper)\n",
    "    mapper.update({i:f'Hero_{i-n}' for i in range(n, len(df.columns))})\n",
    "    df.rename(mapper=mapper, axis=1, inplace=True)\n",
    "    # Drop columns\n",
    "    df.drop(['Location', 'Mode', 'Type'], axis=1, inplace=True)\n",
    "#     df = df.applymap(lambda x: 0 if x==-1 else 0.5 if x==0 else 1)\n",
    "    return df.drop('Win', axis=1), df.Win"
   ]
  },
  {
   "cell_type": "code",
   "execution_count": 12,
   "metadata": {
    "colab": {},
    "colab_type": "code",
    "id": "AF7TA0Eb60au"
   },
   "outputs": [],
   "source": [
    "x_train, y_train = preprocess_data_original(train)\n",
    "x_test, y_test = preprocess_data_original(test)"
   ]
  },
  {
   "cell_type": "markdown",
   "metadata": {},
   "source": [
    "## Train & Test"
   ]
  },
  {
   "cell_type": "code",
   "execution_count": 13,
   "metadata": {
    "colab": {
     "base_uri": "https://localhost:8080/",
     "height": 262
    },
    "colab_type": "code",
    "executionInfo": {
     "elapsed": 38507,
     "status": "ok",
     "timestamp": 1557911294385,
     "user": {
      "displayName": "陳冠仁",
      "photoUrl": "https://lh5.googleusercontent.com/-pKJCH2mYfz4/AAAAAAAAAAI/AAAAAAAAD4M/R86pZwNc97w/s64/photo.jpg",
      "userId": "08094711821077525171"
     },
     "user_tz": -480
    },
    "id": "enfiH26i21dX",
    "outputId": "42b546f2-a4a2-4b7f-b49d-2d925d5069b7"
   },
   "outputs": [],
   "source": [
    "def train_test_original(epochs=1, batch_size=16):\n",
    "    input_shape = [len(x_train.columns)]\n",
    "\n",
    "    model = models.Sequential([\n",
    "        layers.Dense(1, activation=tf.nn.softmax, input_shape=input_shape),\n",
    "    ])\n",
    "\n",
    "    model.compile(optimizer='adam',\n",
    "                  loss='binary_crossentropy',\n",
    "                  metrics=['accuracy'])\n",
    "\n",
    "    # train the parameters\n",
    "    history = model.fit(x_train,\n",
    "                        y_train, \n",
    "                        epochs=epochs, \n",
    "                        batch_size=batch_size,\n",
    "                        verbose=1)\n",
    "    train_acc = history.history['acc'][-1]\n",
    "\n",
    "    test_loss, test_acc = model.evaluate(x_test, y_test, batch_size=batch_size)\n",
    "    \n",
    "    return train_acc, test_acc"
   ]
  },
  {
   "cell_type": "code",
   "execution_count": 14,
   "metadata": {
    "colab": {},
    "colab_type": "code",
    "id": "AF7TA0Eb60au"
   },
   "outputs": [
    {
     "name": "stdout",
     "output_type": "stream",
     "text": [
      "WARNING:tensorflow:From C:\\Users\\KJCHEN\\Miniconda3\\envs\\FDA\\lib\\site-packages\\tensorflow\\python\\ops\\resource_variable_ops.py:435: colocate_with (from tensorflow.python.framework.ops) is deprecated and will be removed in a future version.\n",
      "Instructions for updating:\n",
      "Colocations handled automatically by placer.\n",
      "WARNING:tensorflow:From C:\\Users\\KJCHEN\\Miniconda3\\envs\\FDA\\lib\\site-packages\\tensorflow\\python\\ops\\math_ops.py:3066: to_int32 (from tensorflow.python.ops.math_ops) is deprecated and will be removed in a future version.\n",
      "Instructions for updating:\n",
      "Use tf.cast instead.\n",
      "Epoch 1/2\n",
      "92650/92650 [==============================] - 7s 72us/sample - loss: 15.0968 - acc: 0.5265\n",
      "Epoch 2/2\n",
      "92650/92650 [==============================] - 7s 72us/sample - loss: 15.0968 - acc: 0.5265\n",
      "10294/10294 [==============================] - 0s 39us/sample - loss: 14.8428 - acc: 0.5345\n"
     ]
    }
   ],
   "source": [
    "orig_train_acc, orig_test_acc = train_test_original(epochs=2)"
   ]
  },
  {
   "cell_type": "markdown",
   "metadata": {
    "colab_type": "text",
    "id": "bmzCFZVc21d9"
   },
   "source": [
    "---\n",
    "# Reflection on direct approach\n",
    "\n",
    "## Data\n",
    "> - Heroes on friendly team are not exact opposite of those on the enemy team. Features like this should not share weights.\n",
    "\n",
    "## Model\n",
    "> - Use **sparse_categorical_crossentropy** instead of **binary_crossentropy**"
   ]
  },
  {
   "cell_type": "markdown",
   "metadata": {
    "colab_type": "text",
    "id": "pqj-pSew21dQ"
   },
   "source": [
    "---\n",
    "# Adjusted approach (Separated teams & Change loss method)"
   ]
  },
  {
   "cell_type": "markdown",
   "metadata": {
    "colab_type": "text",
    "id": "UhameDPr21dT"
   },
   "source": [
    "## Preprocessing"
   ]
  },
  {
   "cell_type": "code",
   "execution_count": 15,
   "metadata": {
    "colab": {},
    "colab_type": "code",
    "id": "xF1ZgaSyoxgS"
   },
   "outputs": [],
   "source": [
    "def preprocess_data_new(data):\n",
    "    df = data.copy(deep=True)\n",
    "    # Divide into two teams\n",
    "    teams = df.loc[:, 4:]\n",
    "    n = len(teams.columns)\n",
    "    team_A = teams.applymap(lambda x: 1 if x>0 else 0)\n",
    "    team_A.columns = [f'Team_A_{i}' for i in range(n)]\n",
    "    team_B = teams.applymap(lambda x: 1 if x<0 else 0)\n",
    "    team_B.columns = [f'Team_B_{i}' for i in range(n)]\n",
    "    # Merge\n",
    "    x = pd.concat([team_A, team_B], axis=1)\n",
    "    y = df.loc[:, 0].apply(lambda x: 1 if x>0 else 0)\n",
    "    return x, y"
   ]
  },
  {
   "cell_type": "code",
   "execution_count": 16,
   "metadata": {
    "colab": {},
    "colab_type": "code",
    "id": "5dn1ZFgv5-G1"
   },
   "outputs": [],
   "source": [
    "x_train, y_train = preprocess_data_new(train)\n",
    "x_test, y_test = preprocess_data_new(test)"
   ]
  },
  {
   "cell_type": "markdown",
   "metadata": {},
   "source": [
    "# Train & Test"
   ]
  },
  {
   "cell_type": "code",
   "execution_count": 17,
   "metadata": {
    "colab": {
     "base_uri": "https://localhost:8080/",
     "height": 262
    },
    "colab_type": "code",
    "executionInfo": {
     "elapsed": 38507,
     "status": "ok",
     "timestamp": 1557911294385,
     "user": {
      "displayName": "陳冠仁",
      "photoUrl": "https://lh5.googleusercontent.com/-pKJCH2mYfz4/AAAAAAAAAAI/AAAAAAAAD4M/R86pZwNc97w/s64/photo.jpg",
      "userId": "08094711821077525171"
     },
     "user_tz": -480
    },
    "id": "enfiH26i21dX",
    "outputId": "42b546f2-a4a2-4b7f-b49d-2d925d5069b7"
   },
   "outputs": [],
   "source": [
    "def train_test_new(epochs=1, batch_size=16):\n",
    "    input_shape = [len(x_train.columns)]\n",
    "    output_dim = len(y_train.unique())\n",
    "\n",
    "    model = models.Sequential([\n",
    "        layers.Dense(output_dim, activation=tf.nn.softmax, input_shape=input_shape),\n",
    "    ])\n",
    "\n",
    "    model.compile(optimizer='adam',\n",
    "                  loss='sparse_categorical_crossentropy',\n",
    "                  metrics=['accuracy'])\n",
    "\n",
    "    # train the parameters\n",
    "    history = model.fit(x_train,\n",
    "                        y_train, \n",
    "                        epochs=epochs, \n",
    "                        batch_size=batch_size,\n",
    "                        verbose=1)\n",
    "    train_acc = history.history['acc'][-1]\n",
    "\n",
    "    test_loss, test_acc = model.evaluate(x_test, y_test, batch_size=batch_size)\n",
    "    \n",
    "    return train_acc, test_acc"
   ]
  },
  {
   "cell_type": "code",
   "execution_count": 18,
   "metadata": {
    "colab": {},
    "colab_type": "code",
    "id": "5dn1ZFgv5-G1"
   },
   "outputs": [
    {
     "name": "stdout",
     "output_type": "stream",
     "text": [
      "Epoch 1/2\n",
      "92650/92650 [==============================] - 6s 68us/sample - loss: 0.6704 - acc: 0.5843\n",
      "Epoch 2/2\n",
      "92650/92650 [==============================] - 6s 66us/sample - loss: 0.6644 - acc: 0.5967\n",
      "10294/10294 [==============================] - 0s 38us/sample - loss: 0.6624 - acc: 0.5933\n"
     ]
    }
   ],
   "source": [
    "new_train_acc, new_test_acc = train_test_new(epochs=2)"
   ]
  },
  {
   "cell_type": "markdown",
   "metadata": {},
   "source": [
    "---\n",
    "# Result"
   ]
  },
  {
   "cell_type": "code",
   "execution_count": 19,
   "metadata": {},
   "outputs": [
    {
     "data": {
      "image/png": "[encoded data removed]",
      "text/plain": [
       "<Figure size 432x288 with 1 Axes>"
      ]
     },
     "metadata": {
      "needs_background": "light"
     },
     "output_type": "display_data"
    }
   ],
   "source": [
    "data = [\n",
    "    [orig_train_acc, 'train', 'Original'],\n",
    "    [orig_test_acc, 'test', 'Original'],\n",
    "    [new_train_acc, 'train', 'Adjusted'],\n",
    "    [new_test_acc, 'test', 'Adjusted']\n",
    "]\n",
    "result = pd.DataFrame(data, columns = ['accuracy', 'type', 'method'])\n",
    "\n",
    "ax = sns.barplot(x='method', y='accuracy', hue='type', data=result)\n",
    "ax.set_title('Method Comparison');"
   ]
  }
 ],
 "metadata": {
  "colab": {
   "collapsed_sections": [],
   "name": "dota2.ipynb",
   "provenance": [],
   "version": "0.3.2"
  },
  "kernelspec": {
   "display_name": "Python 3",
   "language": "python",
   "name": "python3"
  },
  "language_info": {
   "codemirror_mode": {
    "name": "ipython",
    "version": 3
   },
   "file_extension": ".py",
   "mimetype": "text/x-python",
   "name": "python",
   "nbconvert_exporter": "python",
   "pygments_lexer": "ipython3",
   "version": "3.7.3"
  }
 },
 "nbformat": 4,
 "nbformat_minor": 2
}
