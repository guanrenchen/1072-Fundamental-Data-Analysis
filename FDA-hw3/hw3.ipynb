{
 "cells": [
  {
   "cell_type": "markdown",
   "metadata": {},
   "source": [
    "# Init"
   ]
  },
  {
   "cell_type": "code",
   "execution_count": 1,
   "metadata": {},
   "outputs": [],
   "source": [
    "import pandas as pd\n",
    "import seaborn as sns\n",
    "from matplotlib import pyplot as plt\n",
    "\n",
    "pd.options.display.max_rows = 10"
   ]
  },
  {
   "cell_type": "code",
   "execution_count": 2,
   "metadata": {},
   "outputs": [],
   "source": [
    "from sklearn.preprocessing import StandardScaler, MinMaxScaler\n",
    "from sklearn.model_selection import cross_val_score"
   ]
  },
  {
   "cell_type": "code",
   "execution_count": 3,
   "metadata": {},
   "outputs": [],
   "source": [
    "from sklearn.svm import SVC\n",
    "from sklearn.linear_model import LogisticRegression"
   ]
  },
  {
   "cell_type": "code",
   "execution_count": 4,
   "metadata": {},
   "outputs": [],
   "source": [
    "import tensorflow as tf\n",
    "from tensorflow.keras import models, layers, optimizers, regularizers\n",
    "import numpy as np\n",
    "import random\n",
    "from sklearn import model_selection, preprocessing\n",
    "import tensorflow as tf\n",
    "import matplotlib.pyplot as plt"
   ]
  },
  {
   "cell_type": "markdown",
   "metadata": {},
   "source": [
    "---\n",
    "# Data"
   ]
  },
  {
   "cell_type": "code",
   "execution_count": 5,
   "metadata": {},
   "outputs": [],
   "source": [
    "train = pd.read_csv('data/train.csv')\n",
    "test = pd.read_csv('data/test.csv')"
   ]
  },
  {
   "cell_type": "code",
   "execution_count": 6,
   "metadata": {},
   "outputs": [
    {
     "data": {
      "text/html": [
       "<div>\n",
       "<style scoped>\n",
       "    .dataframe tbody tr th:only-of-type {\n",
       "        vertical-align: middle;\n",
       "    }\n",
       "\n",
       "    .dataframe tbody tr th {\n",
       "        vertical-align: top;\n",
       "    }\n",
       "\n",
       "    .dataframe thead th {\n",
       "        text-align: right;\n",
       "    }\n",
       "</style>\n",
       "<table border=\"1\" class=\"dataframe\">\n",
       "  <thead>\n",
       "    <tr style=\"text-align: right;\">\n",
       "      <th></th>\n",
       "      <th>Open Price</th>\n",
       "      <th>Close Price</th>\n",
       "      <th>High Price</th>\n",
       "      <th>Low Price</th>\n",
       "      <th>Volume</th>\n",
       "    </tr>\n",
       "  </thead>\n",
       "  <tbody>\n",
       "    <tr>\n",
       "      <th>count</th>\n",
       "      <td>2264.000000</td>\n",
       "      <td>2264.000000</td>\n",
       "      <td>2264.000000</td>\n",
       "      <td>2264.000000</td>\n",
       "      <td>2.264000e+03</td>\n",
       "    </tr>\n",
       "    <tr>\n",
       "      <th>mean</th>\n",
       "      <td>1656.142686</td>\n",
       "      <td>1656.767562</td>\n",
       "      <td>1664.427054</td>\n",
       "      <td>1647.425128</td>\n",
       "      <td>2.948755e+09</td>\n",
       "    </tr>\n",
       "    <tr>\n",
       "      <th>std</th>\n",
       "      <td>485.292193</td>\n",
       "      <td>485.226120</td>\n",
       "      <td>484.808706</td>\n",
       "      <td>485.576116</td>\n",
       "      <td>1.351675e+09</td>\n",
       "    </tr>\n",
       "    <tr>\n",
       "      <th>min</th>\n",
       "      <td>679.280000</td>\n",
       "      <td>676.530000</td>\n",
       "      <td>695.270000</td>\n",
       "      <td>666.790000</td>\n",
       "      <td>5.181584e+08</td>\n",
       "    </tr>\n",
       "    <tr>\n",
       "      <th>25%</th>\n",
       "      <td>1238.602500</td>\n",
       "      <td>1239.337500</td>\n",
       "      <td>1246.695000</td>\n",
       "      <td>1227.587500</td>\n",
       "      <td>2.048980e+09</td>\n",
       "    </tr>\n",
       "    <tr>\n",
       "      <th>50%</th>\n",
       "      <td>1649.135000</td>\n",
       "      <td>1650.405000</td>\n",
       "      <td>1656.145000</td>\n",
       "      <td>1639.600000</td>\n",
       "      <td>2.506637e+09</td>\n",
       "    </tr>\n",
       "    <tr>\n",
       "      <th>75%</th>\n",
       "      <td>2070.300000</td>\n",
       "      <td>2071.190000</td>\n",
       "      <td>2079.507500</td>\n",
       "      <td>2058.757500</td>\n",
       "      <td>3.373334e+09</td>\n",
       "    </tr>\n",
       "    <tr>\n",
       "      <th>max</th>\n",
       "      <td>2692.710000</td>\n",
       "      <td>2690.160000</td>\n",
       "      <td>2694.970000</td>\n",
       "      <td>2685.920000</td>\n",
       "      <td>9.120100e+09</td>\n",
       "    </tr>\n",
       "  </tbody>\n",
       "</table>\n",
       "</div>"
      ],
      "text/plain": [
       "        Open Price  Close Price   High Price    Low Price        Volume\n",
       "count  2264.000000  2264.000000  2264.000000  2264.000000  2.264000e+03\n",
       "mean   1656.142686  1656.767562  1664.427054  1647.425128  2.948755e+09\n",
       "std     485.292193   485.226120   484.808706   485.576116  1.351675e+09\n",
       "min     679.280000   676.530000   695.270000   666.790000  5.181584e+08\n",
       "25%    1238.602500  1239.337500  1246.695000  1227.587500  2.048980e+09\n",
       "50%    1649.135000  1650.405000  1656.145000  1639.600000  2.506637e+09\n",
       "75%    2070.300000  2071.190000  2079.507500  2058.757500  3.373334e+09\n",
       "max    2692.710000  2690.160000  2694.970000  2685.920000  9.120100e+09"
      ]
     },
     "execution_count": 6,
     "metadata": {},
     "output_type": "execute_result"
    }
   ],
   "source": [
    "train.describe()"
   ]
  },
  {
   "cell_type": "code",
   "execution_count": 7,
   "metadata": {},
   "outputs": [
    {
     "data": {
      "image/png": "[encoded data removed]",
      "text/plain": [
       "<Figure size 1080x360 with 2 Axes>"
      ]
     },
     "metadata": {
      "needs_background": "light"
     },
     "output_type": "display_data"
    }
   ],
   "source": [
    "close_sub_open = train['Close Price'] - train['Open Price']\n",
    "\n",
    "plt.figure(figsize=(15,5))\n",
    "plt.subplot(121)\n",
    "plt.title('Stock Movement (Close - Open)')\n",
    "sns.lineplot(range(len(close_sub_open)), close_sub_open);\n",
    "plt.subplot(122)\n",
    "plt.title('Rise (Close - Open >= 0)')\n",
    "sns.countplot(close_sub_open.apply(lambda x: 1 if x>=0 else 0));\n",
    "\n",
    "plt.savefig('img/movement_rise.png');"
   ]
  },
  {
   "cell_type": "markdown",
   "metadata": {},
   "source": [
    "---\n",
    "# Preprocessing\n"
   ]
  },
  {
   "cell_type": "code",
   "execution_count": 8,
   "metadata": {},
   "outputs": [],
   "source": [
    "def preprocess_df(df, prev_days=0):\n",
    "    df = df.rename(lambda s: s.split(' ')[0], axis='columns')\n",
    "    \n",
    "    o, h, l, c = 'Open', 'High', 'Low', 'Close'\n",
    "    df[o+'-'+h] = df[o] - df[h]\n",
    "    df[o+'-'+l] = df[o] - df[l]\n",
    "    if prev_days > 0:\n",
    "        df[o+'-'+c] = df[o] - df[c]\n",
    "    \n",
    "    n = len(df)-prev_days\n",
    "    \n",
    "    y = ((df[c] - df[o]) >= 0).astype(int).shift(-prev_days).head(n)\n",
    "    \n",
    "    df = df.drop([o,h,l,c,'Volume', 'Date'], axis=1)\n",
    "\n",
    "    if prev_days > 0:\n",
    "        X = pd.concat(\n",
    "            [df.shift(-i).add_prefix(f'{-prev_days+i}_') for i in range(prev_days)],\n",
    "            axis=1,\n",
    "        ).head(n)\n",
    "    else:\n",
    "        X = df\n",
    "    \n",
    "    return X, pd.Series(y, name='Rise', index=range(n))"
   ]
  },
  {
   "cell_type": "code",
   "execution_count": 9,
   "metadata": {},
   "outputs": [],
   "source": [
    "def preprocess_dfs(train, test, prev_days=0):\n",
    "    x_train, y_train = preprocess_df(train, prev_days=prev_days)\n",
    "    x_test, y_test = preprocess_df(test, prev_days=prev_days)\n",
    "\n",
    "    scaler = MinMaxScaler().fit(x_train.astype(float))\n",
    "\n",
    "    x_train[:] = scaler.transform(x_train.astype(float))\n",
    "    x_test[:] = scaler.transform(x_test.astype(float))\n",
    "    \n",
    "    return x_train, y_train, x_test, y_test"
   ]
  },
  {
   "cell_type": "markdown",
   "metadata": {},
   "source": [
    "---\n",
    "# Training/Testing"
   ]
  },
  {
   "cell_type": "code",
   "execution_count": 10,
   "metadata": {},
   "outputs": [],
   "source": [
    "def get_accuracy(c):\n",
    "    c.fit(x_train, y_train)\n",
    "    train_acc = c.score(x_train, y_train)\n",
    "    test_acc = c.score(x_test, y_test)\n",
    "    return train_acc, test_acc"
   ]
  },
  {
   "cell_type": "code",
   "execution_count": 11,
   "metadata": {},
   "outputs": [],
   "source": [
    "def train_test(x_train, y_train, x_test, y_test):\n",
    "    hidden_units = 10\n",
    "    l2 = 0.01\n",
    "    learning_rate = 0.05\n",
    "    epochs = 10\n",
    "    batch_size = 16\n",
    "\n",
    "    model = models.Sequential()\n",
    "\n",
    "    model.add(layers.Dense(input_dim=len(x_train.columns),\n",
    "                           units=hidden_units, \n",
    "                           activation='sigmoid'))\n",
    "\n",
    "    model.add(layers.Dense(input_dim=hidden_units,\n",
    "                           units=1,\n",
    "                           activation='sigmoid'))\n",
    "\n",
    "    model.compile(loss='binary_crossentropy',\n",
    "                  optimizer=optimizers.Adam(lr=learning_rate),\n",
    "                  metrics=['accuracy'])\n",
    "\n",
    "    # train the parameters\n",
    "    history = model.fit(x_train, \n",
    "                        y_train, \n",
    "                        epochs=epochs, \n",
    "                        batch_size=batch_size,\n",
    "                        verbose=0)\n",
    "\n",
    "    # evaluate accuracy\n",
    "    train_acc = model.evaluate(x_train, y_train, batch_size=batch_size)[1]\n",
    "    test_acc = model.evaluate(x_test, y_test, batch_size=batch_size)[1]\n",
    "\n",
    "#     losses = history.history['loss']\n",
    "#     plt.plot(range(len(losses)), losses);\n",
    "\n",
    "    ret_mlp = (train_acc, test_acc)\n",
    "    ret_svc = get_accuracy(SVC(gamma='auto'))\n",
    "    ret_lr = get_accuracy(LogisticRegression(solver='lbfgs'))\n",
    "    \n",
    "    v_type = ['train', 'test']\n",
    "    data = [\n",
    "        [ret_mlp[0], v_type[0], 'MLP'],\n",
    "        [ret_svc[0], v_type[0], 'SVC'],\n",
    "        [ret_lr[0], v_type[0], 'Logistic Regression'],\n",
    "        [ret_mlp[1], v_type[1], 'MLP'],\n",
    "        [ret_svc[1], v_type[1], 'SVC'],\n",
    "        [ret_lr[1], v_type[1], 'Logistic Regression']\n",
    "    ]\n",
    "    columns = ['value', 'type', 'model']\n",
    "    return pd.DataFrame(data, columns=columns)\n"
   ]
  },
  {
   "cell_type": "markdown",
   "metadata": {},
   "source": [
    "---\n",
    "\n",
    "# Execution (varying range of input)"
   ]
  },
  {
   "cell_type": "markdown",
   "metadata": {},
   "source": [
    "## Same day (Close Price excluded from input)"
   ]
  },
  {
   "cell_type": "code",
   "execution_count": 12,
   "metadata": {},
   "outputs": [
    {
     "name": "stdout",
     "output_type": "stream",
     "text": [
      "WARNING:tensorflow:From C:\\Users\\KJCHEN\\Miniconda3\\envs\\FDA\\lib\\site-packages\\tensorflow\\python\\ops\\resource_variable_ops.py:435: colocate_with (from tensorflow.python.framework.ops) is deprecated and will be removed in a future version.\n",
      "Instructions for updating:\n",
      "Colocations handled automatically by placer.\n",
      "WARNING:tensorflow:From C:\\Users\\KJCHEN\\Miniconda3\\envs\\FDA\\lib\\site-packages\\tensorflow\\python\\ops\\math_ops.py:3066: to_int32 (from tensorflow.python.ops.math_ops) is deprecated and will be removed in a future version.\n",
      "Instructions for updating:\n",
      "Use tf.cast instead.\n",
      "2264/2264 [==============================] - 0s 64us/sample - loss: 0.3379 - acc: 0.8432\n",
      "252/252 [==============================] - 0s 51us/sample - loss: 0.4401 - acc: 0.8333\n"
     ]
    },
    {
     "data": {
      "image/png": "[encoded data removed]",
      "text/plain": [
       "<Figure size 864x432 with 1 Axes>"
      ]
     },
     "metadata": {
      "needs_background": "light"
     },
     "output_type": "display_data"
    }
   ],
   "source": [
    "plt.figure(figsize=(12,6))\n",
    "x_train, y_train, x_test, y_test = preprocess_dfs(train, test, prev_days=0)\n",
    "sns.barplot(x='model', \n",
    "            y='value', \n",
    "            hue='type', \n",
    "            data=train_test(x_train, y_train, x_test, y_test))\n",
    "plt.title('Accuracy (same day)');\n",
    "plt.ylim(0.8,0.9);\n",
    "plt.savefig('img/accuracy_same_day.png');"
   ]
  },
  {
   "cell_type": "markdown",
   "metadata": {},
   "source": [
    "## Previous 1 day"
   ]
  },
  {
   "cell_type": "code",
   "execution_count": 13,
   "metadata": {},
   "outputs": [
    {
     "name": "stdout",
     "output_type": "stream",
     "text": [
      "2263/2263 [==============================] - 0s 81us/sample - loss: 0.6889 - acc: 0.5457\n",
      "251/251 [==============================] - 0s 52us/sample - loss: 0.6968 - acc: 0.4980\n"
     ]
    },
    {
     "data": {
      "image/png": "[encoded data removed]",
      "text/plain": [
       "<Figure size 864x432 with 1 Axes>"
      ]
     },
     "metadata": {
      "needs_background": "light"
     },
     "output_type": "display_data"
    }
   ],
   "source": [
    "plt.figure(figsize=(12,6))\n",
    "x_train, y_train, x_test, y_test = preprocess_dfs(train, test, prev_days=1)\n",
    "sns.barplot(x='model', \n",
    "            y='value', \n",
    "            hue='type', \n",
    "            data=train_test(x_train, y_train, x_test, y_test))\n",
    "plt.title('Accuracy (previous 1 day)');\n",
    "plt.ylim(0.4,0.6);\n",
    "plt.savefig('img/accuracy_prev_1_day.png');"
   ]
  },
  {
   "cell_type": "markdown",
   "metadata": {},
   "source": [
    "## Previous 5 days"
   ]
  },
  {
   "cell_type": "code",
   "execution_count": 14,
   "metadata": {},
   "outputs": [
    {
     "name": "stdout",
     "output_type": "stream",
     "text": [
      "2259/2259 [==============================] - 0s 72us/sample - loss: 0.6897 - acc: 0.5463\n",
      "247/247 [==============================] - 0s 36us/sample - loss: 0.6952 - acc: 0.4939\n"
     ]
    },
    {
     "data": {
      "image/png": "[encoded data removed]",
      "text/plain": [
       "<Figure size 864x432 with 1 Axes>"
      ]
     },
     "metadata": {
      "needs_background": "light"
     },
     "output_type": "display_data"
    }
   ],
   "source": [
    "plt.figure(figsize=(12,6))\n",
    "x_train, y_train, x_test, y_test = preprocess_dfs(train, test, prev_days=5)\n",
    "sns.barplot(x='model', \n",
    "            y='value', \n",
    "            hue='type', \n",
    "            data=train_test(x_train, y_train, x_test, y_test))\n",
    "plt.title('Accuracy (previous 5 day)');\n",
    "plt.ylim(0.4,0.6);\n",
    "plt.savefig('img/accuracy_prev_5_days.png');"
   ]
  }
 ],
 "metadata": {
  "kernelspec": {
   "display_name": "Python 3",
   "language": "python",
   "name": "python3"
  },
  "language_info": {
   "codemirror_mode": {
    "name": "ipython",
    "version": 3
   },
   "file_extension": ".py",
   "mimetype": "text/x-python",
   "name": "python",
   "nbconvert_exporter": "python",
   "pygments_lexer": "ipython3",
   "version": "3.7.3"
  }
 },
 "nbformat": 4,
 "nbformat_minor": 2
}
